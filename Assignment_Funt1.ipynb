{
 "cells": [
  {
   "cell_type": "markdown",
   "id": "3fb1d680-816c-4a06-9fdb-9e6375ac1afa",
   "metadata": {},
   "source": [
    "# Q1. Which keyword is used to create a function? Create a function to return a list of odd numbers in the  range of 1 to 25."
   ]
  },
  {
   "cell_type": "markdown",
   "id": "e4b433ac-040f-48d2-989f-4d8c0fec1a2e",
   "metadata": {},
   "source": [
    "## The keyword 'def' is used to create a function in Python"
   ]
  },
  {
   "cell_type": "code",
   "execution_count": 84,
   "id": "7038170d-bc37-4d02-b015-2182ecd4b357",
   "metadata": {},
   "outputs": [],
   "source": [
    "#example\n",
    "\n",
    "def test1():\n",
    "    n = []\n",
    "    for i in range(1, 26):\n",
    "        if i % 2 == 1:\n",
    "            n.append(i) \n",
    "    return n    "
   ]
  },
  {
   "cell_type": "code",
   "execution_count": 85,
   "id": "c66f6908-735e-4cbe-8d51-479c0915b879",
   "metadata": {},
   "outputs": [
    {
     "data": {
      "text/plain": [
       "[1, 3, 5, 7, 9, 11, 13, 15, 17, 19, 21, 23, 25]"
      ]
     },
     "execution_count": 85,
     "metadata": {},
     "output_type": "execute_result"
    }
   ],
   "source": [
    "test1()"
   ]
  },
  {
   "cell_type": "markdown",
   "id": "50ed229d-586a-4b1a-ade2-fe00c92e2f7c",
   "metadata": {},
   "source": [
    "# Q2. Why *args and **kwargs is used in some functions? Create a function each for *args and **kwargs to  demonstrate their use. "
   ]
  },
  {
   "cell_type": "markdown",
   "id": "828de28b-7573-4d87-a42c-41b57a628382",
   "metadata": {},
   "source": [
    "### In Python, the *args and **kwargs are used to pass number of arguments to a function. It is used to pass multiple arguments to the function when we are not sure about the number of arguments to be passed."
   ]
  },
  {
   "cell_type": "markdown",
   "id": "e7f4c901-e973-4401-a90c-3ca19df4eedd",
   "metadata": {},
   "source": [
    "### *args is used to send a non-keyworded, variable-length argument list to the function as a tuple."
   ]
  },
  {
   "cell_type": "code",
   "execution_count": 86,
   "id": "65141f8f-ed3b-403b-9075-fa26e7b249a2",
   "metadata": {},
   "outputs": [],
   "source": [
    "#funtion for *args\n",
    "\n",
    "def test2(*args):  \n",
    "    for i in args:  \n",
    "        print(i)  "
   ]
  },
  {
   "cell_type": "code",
   "execution_count": 87,
   "id": "9eaabaa7-b745-450d-981a-567b9c66b5b7",
   "metadata": {},
   "outputs": [
    {
     "name": "stdout",
     "output_type": "stream",
     "text": [
      "abc\n",
      "1\n",
      "2.3\n",
      "True\n",
      "[5, 6, 7]\n"
     ]
    }
   ],
   "source": [
    "test2(\"abc\", 1, 2.3, True, [5, 6 , 7])  "
   ]
  },
  {
   "cell_type": "markdown",
   "id": "98baec0d-61ad-4414-8850-f706bc4b77a1",
   "metadata": {},
   "source": [
    "### **kwargs is used to send a keyworded, variable-length argument list to the function like a dictionary."
   ]
  },
  {
   "cell_type": "code",
   "execution_count": 88,
   "id": "0a38b467-b5f0-448f-91e0-6ae45a6d3852",
   "metadata": {},
   "outputs": [],
   "source": [
    "#function for *kwargs\n",
    "\n",
    "def test3(**kwargs):  \n",
    "    for key,value in kwargs.items():  \n",
    "        print(key,\":\", value)  "
   ]
  },
  {
   "cell_type": "code",
   "execution_count": 89,
   "id": "74c476b1-2fcc-4fb6-a803-44545820ed9f",
   "metadata": {},
   "outputs": [
    {
     "name": "stdout",
     "output_type": "stream",
     "text": [
      "key1 : ABC\n",
      "key2 : 123\n",
      "key3 : True\n"
     ]
    }
   ],
   "source": [
    "test3(key1 = 'ABC' , key2 = 123, key3 = True)"
   ]
  },
  {
   "cell_type": "markdown",
   "id": "07eb0343-ab82-4584-aa69-8512af7360b5",
   "metadata": {},
   "source": [
    "# Q3.  What is an iterator in python? Name the method used to initialise the iterator object and the method  used for iteration. Use these methods to print the first five elements of the given list [2, 4, 6, 8, 10, 12, 14, 16,  18, 20]. # "
   ]
  },
  {
   "cell_type": "markdown",
   "id": "7be93563-c082-4b34-bbe9-d5609966e829",
   "metadata": {},
   "source": [
    "### In Python, an iterator is an object which is used to traverse through all the elements of a collection like list, or tuple.\n",
    "\n",
    "### The iter() method is used to initialize the iterator object, while next() method is used for iterating next element."
   ]
  },
  {
   "cell_type": "code",
   "execution_count": 90,
   "id": "12093d81-4cb4-40d0-8d70-3bbd7eb88da7",
   "metadata": {},
   "outputs": [
    {
     "name": "stdout",
     "output_type": "stream",
     "text": [
      "2\n",
      "4\n",
      "6\n",
      "8\n",
      "10\n"
     ]
    }
   ],
   "source": [
    "#Example\n",
    "\n",
    "item = iter([2, 4, 6, 8, 10, 12, 14, 16, 18, 20])\n",
    "\n",
    "print(next(item))\n",
    "print(next(item))\n",
    "print(next(item))\n",
    "print(next(item))\n",
    "print(next(item))"
   ]
  },
  {
   "cell_type": "markdown",
   "id": "0bcd1022-b6fc-4385-9a44-2bdb3d69a41b",
   "metadata": {},
   "source": [
    "# Q4.  What is a generator function in python? Why yield keyword is used? Give an example of a generator  function."
   ]
  },
  {
   "cell_type": "markdown",
   "id": "2182d74d-1168-4d53-bd26-1251141b8a39",
   "metadata": {},
   "source": [
    "### A generator is just a function that returns an iterable object which we can iterate over like we do with lists. It has a yield statement instead of a return statement used in regular function."
   ]
  },
  {
   "cell_type": "markdown",
   "id": "882fb02f-4a07-4fcb-a86e-cf1ad6845a13",
   "metadata": {},
   "source": [
    "### yield keyword is used instead of return keyword due to the storing ability. It need not to keep track of all iterations at the same time. It deals with it one at a time."
   ]
  },
  {
   "cell_type": "code",
   "execution_count": 91,
   "id": "d7039299-83ab-4b35-8cac-d29e921b0cd5",
   "metadata": {},
   "outputs": [],
   "source": [
    "#Example: Write a program to print the table of the given number using the generator() function.\n",
    "\n",
    "def table(n):  \n",
    "    for i in range(1,11):  \n",
    "        yield n*i  \n",
    "        i = i+1  "
   ]
  },
  {
   "cell_type": "code",
   "execution_count": 92,
   "id": "ec2181f6-05fd-458e-86b2-0f62be7f730b",
   "metadata": {},
   "outputs": [
    {
     "name": "stdout",
     "output_type": "stream",
     "text": [
      "11\n",
      "22\n",
      "33\n",
      "44\n",
      "55\n",
      "66\n",
      "77\n",
      "88\n",
      "99\n",
      "110\n"
     ]
    }
   ],
   "source": [
    "for i in table(11):  \n",
    "    print(i)  "
   ]
  },
  {
   "cell_type": "markdown",
   "id": "5c50cc89-ded8-4f0d-b611-38a8ffe445e7",
   "metadata": {},
   "source": [
    "# Q5. Create a generator function for prime numbers less than 1000. Use the next() method to print the  first 20 prime numbers."
   ]
  },
  {
   "cell_type": "code",
   "execution_count": 93,
   "id": "0d1ee3ce-dee9-4d65-bb41-a1f9e9b03059",
   "metadata": {},
   "outputs": [],
   "source": [
    "def prime(n): \n",
    "    prime_list = []\n",
    "    for i in range(2, n + 1 ):  \n",
    "        for j in prime_list:\n",
    "            if i % j == 0:\n",
    "                break\n",
    "        else:    \n",
    "            prime_list.append(i)\n",
    "            yield i"
   ]
  },
  {
   "cell_type": "code",
   "execution_count": 94,
   "id": "4c11d7e4-d92a-4bb2-84d6-69e4118ce24c",
   "metadata": {},
   "outputs": [],
   "source": [
    "prime_generator = prime(1000)"
   ]
  },
  {
   "cell_type": "code",
   "execution_count": 95,
   "id": "adcacfa8-00b7-4856-ad81-f27c8941641b",
   "metadata": {
    "tags": []
   },
   "outputs": [
    {
     "name": "stdout",
     "output_type": "stream",
     "text": [
      "2\n",
      "3\n",
      "5\n",
      "7\n",
      "11\n",
      "13\n",
      "17\n",
      "19\n",
      "23\n",
      "29\n",
      "31\n",
      "37\n",
      "41\n",
      "43\n",
      "47\n",
      "53\n",
      "59\n",
      "61\n",
      "67\n",
      "71\n"
     ]
    }
   ],
   "source": [
    "for i in range(20):\n",
    "    print(next(prime_generator))"
   ]
  }
 ],
 "metadata": {
  "kernelspec": {
   "display_name": "Python 3 (ipykernel)",
   "language": "python",
   "name": "python3"
  },
  "language_info": {
   "codemirror_mode": {
    "name": "ipython",
    "version": 3
   },
   "file_extension": ".py",
   "mimetype": "text/x-python",
   "name": "python",
   "nbconvert_exporter": "python",
   "pygments_lexer": "ipython3",
   "version": "3.10.8"
  }
 },
 "nbformat": 4,
 "nbformat_minor": 5
}
